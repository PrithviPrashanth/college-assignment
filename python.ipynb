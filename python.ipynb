{
 "cells": [
  {
   "cell_type": "code",
   "execution_count": 1,
   "metadata": {},
   "outputs": [],
   "source": [
    "class student:\n",
    "    \n",
    "    def __init__(self, name, usn, m1, m2, m3):\n",
    "        self.name = name\n",
    "        self.usn = usn\n",
    "        self.m1 = m1\n",
    "        self.m2 = m2\n",
    "        self.m3 = m3\n",
    "        \n",
    "    def __str__(self):\n",
    "        return f\"Name: {self.name} \\nUSN: {self.usn} \\nSubject 1 marks: {self.m1} \\nSubject 2 marks: {self.m2} \\nSubject 3 marks: {self.m3} \\n\"\n",
    "    \n",
    "    def increment_marks(self, bonus=10):\n",
    "        self.m1 += bonus/100 * self.m1\n",
    "        self.m2 += bonus/100 * self.m2\n",
    "        self.m3 += bonus/100 * self.m3\n",
    "        if self.m1 > 100:\n",
    "            self.m1 = 100\n",
    "        if self.m2 > 100:\n",
    "            self.m2 = 100\n",
    "        if self.m3 > 100:\n",
    "            self.m3 = 100\n",
    "        \n",
    "    def percentage(self):\n",
    "        avg = (self.m1 + self.m2 + self.m3) / 3\n",
    "        print(f\"Percentage: {round(avg, 2)}\")"
   ]
  },
  {
   "cell_type": "code",
   "execution_count": 2,
   "metadata": {},
   "outputs": [
    {
     "name": "stdout",
     "output_type": "stream",
     "text": [
      "Name: Prithvi \n",
      "USN: 4VV18CS105 \n",
      "Subject 1 marks: 82 \n",
      "Subject 2 marks: 90 \n",
      "Subject 3 marks: 78 \n",
      "\n"
     ]
    }
   ],
   "source": [
    "pri = student(\"Prithvi\", \"4VV18CS105\", 82, 90, 78)\n",
    "print(pri)"
   ]
  },
  {
   "cell_type": "code",
   "execution_count": 3,
   "metadata": {},
   "outputs": [
    {
     "name": "stdout",
     "output_type": "stream",
     "text": [
      "Percentage: 83.33\n"
     ]
    }
   ],
   "source": [
    "pri.percentage()"
   ]
  },
  {
   "cell_type": "code",
   "execution_count": 4,
   "metadata": {},
   "outputs": [
    {
     "name": "stdout",
     "output_type": "stream",
     "text": [
      "Name: Prithvi \n",
      "USN: 4VV18CS105 \n",
      "Subject 1 marks: 86.1 \n",
      "Subject 2 marks: 94.5 \n",
      "Subject 3 marks: 81.9 \n",
      "\n"
     ]
    }
   ],
   "source": [
    "pri.increment_marks(5)\n",
    "print(pri)"
   ]
  },
  {
   "cell_type": "code",
   "execution_count": 5,
   "metadata": {},
   "outputs": [
    {
     "name": "stdout",
     "output_type": "stream",
     "text": [
      "Name: Prithvi \n",
      "USN: 4VV18CS105 \n",
      "Subject 1 marks: 94.71 \n",
      "Subject 2 marks: 100 \n",
      "Subject 3 marks: 90.09 \n",
      "\n"
     ]
    }
   ],
   "source": [
    "pri.increment_marks()\n",
    "print(pri)"
   ]
  },
  {
   "cell_type": "code",
   "execution_count": 6,
   "metadata": {},
   "outputs": [
    {
     "name": "stdout",
     "output_type": "stream",
     "text": [
      "Percentage: 94.93\n"
     ]
    }
   ],
   "source": [
    "pri.percentage()"
   ]
  },
  {
   "cell_type": "code",
   "execution_count": null,
   "metadata": {},
   "outputs": [],
   "source": []
  }
 ],
 "metadata": {
  "kernelspec": {
   "display_name": "Python 3",
   "language": "python",
   "name": "python3"
  },
  "language_info": {
   "codemirror_mode": {
    "name": "ipython",
    "version": 3
   },
   "file_extension": ".py",
   "mimetype": "text/x-python",
   "name": "python",
   "nbconvert_exporter": "python",
   "pygments_lexer": "ipython3",
   "version": "3.8.3"
  }
 },
 "nbformat": 4,
 "nbformat_minor": 4
}
